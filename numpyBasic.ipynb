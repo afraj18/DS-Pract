{
 "cells": [
  {
   "cell_type": "code",
   "execution_count": 2,
   "id": "4769f51a",
   "metadata": {},
   "outputs": [],
   "source": [
    "import numpy as np"
   ]
  },
  {
   "cell_type": "code",
   "execution_count": 3,
   "id": "3f4cd497",
   "metadata": {},
   "outputs": [
    {
     "name": "stdout",
     "output_type": "stream",
     "text": [
      "[1 2 3 4 5]\n"
     ]
    }
   ],
   "source": [
    "arr = np.array([1,2,3,4,5])\n",
    "print(arr)"
   ]
  },
  {
   "cell_type": "code",
   "execution_count": 4,
   "id": "94b82fa4",
   "metadata": {},
   "outputs": [],
   "source": [
    "twoDarr = np.array([[1,2,3,4,5],[2.2,3,2,2,4],[1,2,4,6,5]],dtype=np.float16)"
   ]
  },
  {
   "cell_type": "code",
   "execution_count": 5,
   "id": "d3fced98",
   "metadata": {},
   "outputs": [
    {
     "name": "stdout",
     "output_type": "stream",
     "text": [
      "[1. 2. 3. 4. 5.]\n",
      "[2.2 3.  2.  2.  4. ]\n",
      "[1. 2. 4. 6. 5.]\n"
     ]
    }
   ],
   "source": [
    "for i in range(len(twoDarr)):\n",
    "    print(twoDarr[i])"
   ]
  },
  {
   "cell_type": "code",
   "execution_count": 6,
   "id": "618d20e1",
   "metadata": {},
   "outputs": [
    {
     "data": {
      "text/plain": [
       "dtype('float16')"
      ]
     },
     "execution_count": 6,
     "metadata": {},
     "output_type": "execute_result"
    }
   ],
   "source": [
    "twoDarr[0].dtype"
   ]
  },
  {
   "cell_type": "code",
   "execution_count": 7,
   "id": "14ffd2d6",
   "metadata": {},
   "outputs": [
    {
     "data": {
      "text/plain": [
       "5"
      ]
     },
     "execution_count": 7,
     "metadata": {},
     "output_type": "execute_result"
    }
   ],
   "source": [
    "arr.size"
   ]
  },
  {
   "cell_type": "code",
   "execution_count": 8,
   "id": "7f1afc01",
   "metadata": {},
   "outputs": [
    {
     "data": {
      "text/plain": [
       "(5,)"
      ]
     },
     "execution_count": 8,
     "metadata": {},
     "output_type": "execute_result"
    }
   ],
   "source": [
    "arr.ndim\n",
    "arr.size\n",
    "arr.shape"
   ]
  },
  {
   "cell_type": "code",
   "execution_count": 9,
   "id": "ca8f7cf9",
   "metadata": {},
   "outputs": [
    {
     "data": {
      "text/plain": [
       "1"
      ]
     },
     "execution_count": 9,
     "metadata": {},
     "output_type": "execute_result"
    }
   ],
   "source": [
    "arr.ndim"
   ]
  },
  {
   "cell_type": "code",
   "execution_count": 10,
   "id": "affa6609",
   "metadata": {},
   "outputs": [
    {
     "data": {
      "text/plain": [
       "(5,)"
      ]
     },
     "execution_count": 10,
     "metadata": {},
     "output_type": "execute_result"
    }
   ],
   "source": [
    "arr.shape"
   ]
  },
  {
   "cell_type": "code",
   "execution_count": 11,
   "id": "856e71c5",
   "metadata": {},
   "outputs": [
    {
     "data": {
      "text/plain": [
       "(3, 5)"
      ]
     },
     "execution_count": 11,
     "metadata": {},
     "output_type": "execute_result"
    }
   ],
   "source": [
    "twoDarr.shape"
   ]
  },
  {
   "cell_type": "code",
   "execution_count": 12,
   "id": "1ebe7f51",
   "metadata": {},
   "outputs": [
    {
     "data": {
      "text/plain": [
       "15"
      ]
     },
     "execution_count": 12,
     "metadata": {},
     "output_type": "execute_result"
    }
   ],
   "source": [
    "twoDarr.size"
   ]
  },
  {
   "cell_type": "code",
   "execution_count": 13,
   "id": "14d4ee78",
   "metadata": {},
   "outputs": [
    {
     "data": {
      "text/plain": [
       "array([[1. , 2. , 3. , 4. , 5. ],\n",
       "       [2.2, 3. , 2. , 2. , 4. ],\n",
       "       [1. , 2. , 4. , 6. , 5. ]], dtype=float16)"
      ]
     },
     "execution_count": 13,
     "metadata": {},
     "output_type": "execute_result"
    }
   ],
   "source": [
    "twoDarr\n"
   ]
  },
  {
   "cell_type": "code",
   "execution_count": 14,
   "id": "d4c7c304",
   "metadata": {},
   "outputs": [],
   "source": [
    "a = np.zeros((3,3),\"d\")"
   ]
  },
  {
   "cell_type": "code",
   "execution_count": 15,
   "id": "dac5bb10",
   "metadata": {},
   "outputs": [
    {
     "data": {
      "text/plain": [
       "array([[0., 0., 0.],\n",
       "       [0., 0., 0.],\n",
       "       [0., 0., 0.]])"
      ]
     },
     "execution_count": 15,
     "metadata": {},
     "output_type": "execute_result"
    }
   ],
   "source": [
    "a"
   ]
  },
  {
   "cell_type": "code",
   "execution_count": 16,
   "id": "a5d2a453",
   "metadata": {},
   "outputs": [
    {
     "data": {
      "text/plain": [
       "dtype('float64')"
      ]
     },
     "execution_count": 16,
     "metadata": {},
     "output_type": "execute_result"
    }
   ],
   "source": [
    "a.dtype\n"
   ]
  },
  {
   "cell_type": "code",
   "execution_count": 17,
   "id": "222a6505",
   "metadata": {},
   "outputs": [
    {
     "data": {
      "text/plain": [
       "array([[2.05833592e-312, 2.33419537e-312, 0.00000000e+000,\n",
       "        0.00000000e+000],\n",
       "       [0.00000000e+000, 0.00000000e+000, 0.00000000e+000,\n",
       "        0.00000000e+000],\n",
       "       [0.00000000e+000, 0.00000000e+000, 0.00000000e+000,\n",
       "        0.00000000e+000],\n",
       "       [0.00000000e+000, 0.00000000e+000, 0.00000000e+000,\n",
       "        0.00000000e+000]])"
      ]
     },
     "execution_count": 17,
     "metadata": {},
     "output_type": "execute_result"
    }
   ],
   "source": [
    "np.empty((4,4),'d')"
   ]
  },
  {
   "cell_type": "code",
   "execution_count": 18,
   "id": "ffe98f4e",
   "metadata": {},
   "outputs": [
    {
     "data": {
      "text/plain": [
       "array([ 0. ,  2.5,  5. ,  7.5, 10. ])"
      ]
     },
     "execution_count": 18,
     "metadata": {},
     "output_type": "execute_result"
    }
   ],
   "source": [
    "np.linspace(0,10,5)"
   ]
  },
  {
   "cell_type": "code",
   "execution_count": 19,
   "id": "6a35921a",
   "metadata": {},
   "outputs": [
    {
     "data": {
      "text/plain": [
       "array([-10,  -8,  -6,  -4,  -2,   0,   2,   4,   6,   8])"
      ]
     },
     "execution_count": 19,
     "metadata": {},
     "output_type": "execute_result"
    }
   ],
   "source": [
    "np.arange(-10,10,2)"
   ]
  },
  {
   "cell_type": "code",
   "execution_count": 20,
   "id": "ba0d389b",
   "metadata": {},
   "outputs": [
    {
     "data": {
      "text/plain": [
       "array([-0.7512013 ,  0.52929848, -0.35894862, -0.28283859, -0.71242266,\n",
       "        1.52560207, -0.79330689, -0.22788614,  1.19675844,  0.2124384 ,\n",
       "       -0.33363705,  0.08046295,  0.02271907,  0.5917394 , -0.0951153 ,\n",
       "        2.16174346,  1.63827625,  0.87680574, -0.91737976, -1.16758181])"
      ]
     },
     "execution_count": 20,
     "metadata": {},
     "output_type": "execute_result"
    }
   ],
   "source": [
    "np.random.standard_normal(20)"
   ]
  },
  {
   "cell_type": "code",
   "execution_count": 21,
   "id": "9e963d68",
   "metadata": {},
   "outputs": [],
   "source": [
    "a = np.random.standard_normal((2,4))"
   ]
  },
  {
   "cell_type": "code",
   "execution_count": 22,
   "id": "24158ef8",
   "metadata": {},
   "outputs": [],
   "source": [
    "b = np.random.standard_normal((2,4))"
   ]
  },
  {
   "cell_type": "code",
   "execution_count": 23,
   "id": "237e98eb",
   "metadata": {},
   "outputs": [
    {
     "data": {
      "text/plain": [
       "((2, 4), (2, 4))"
      ]
     },
     "execution_count": 23,
     "metadata": {},
     "output_type": "execute_result"
    }
   ],
   "source": [
    "a.shape,b.shape"
   ]
  },
  {
   "cell_type": "code",
   "execution_count": 24,
   "id": "51052414",
   "metadata": {},
   "outputs": [],
   "source": [
    "c = np.vstack([a,b])"
   ]
  },
  {
   "cell_type": "code",
   "execution_count": 25,
   "id": "6ba339e6",
   "metadata": {},
   "outputs": [
    {
     "data": {
      "text/plain": [
       "(4, 4)"
      ]
     },
     "execution_count": 25,
     "metadata": {},
     "output_type": "execute_result"
    }
   ],
   "source": [
    "c.shape"
   ]
  },
  {
   "cell_type": "code",
   "execution_count": 26,
   "id": "fc4f27af",
   "metadata": {},
   "outputs": [],
   "source": [
    "d= np.hstack([a,b])\n",
    "\n"
   ]
  },
  {
   "cell_type": "code",
   "execution_count": 27,
   "id": "8428e1a5",
   "metadata": {},
   "outputs": [
    {
     "data": {
      "text/plain": [
       "(2, 8)"
      ]
     },
     "execution_count": 27,
     "metadata": {},
     "output_type": "execute_result"
    }
   ],
   "source": [
    "d.shape"
   ]
  },
  {
   "cell_type": "code",
   "execution_count": 28,
   "id": "f2fa3a35",
   "metadata": {},
   "outputs": [],
   "source": [
    "import matplotlib.pyplot as pp"
   ]
  },
  {
   "cell_type": "code",
   "execution_count": 29,
   "id": "77842e29",
   "metadata": {},
   "outputs": [],
   "source": [
    "%matplotlib inline"
   ]
  },
  {
   "cell_type": "code",
   "execution_count": 31,
   "id": "31a87d36",
   "metadata": {},
   "outputs": [],
   "source": [
    "x = np.linspace(0,25,25)\n"
   ]
  },
  {
   "cell_type": "code",
   "execution_count": 32,
   "id": "2636cc33",
   "metadata": {},
   "outputs": [
    {
     "name": "stdout",
     "output_type": "stream",
     "text": [
      "[ 0.          1.04166667  2.08333333  3.125       4.16666667  5.20833333\n",
      "  6.25        7.29166667  8.33333333  9.375      10.41666667 11.45833333\n",
      " 12.5        13.54166667 14.58333333 15.625      16.66666667 17.70833333\n",
      " 18.75       19.79166667 20.83333333 21.875      22.91666667 23.95833333\n",
      " 25.        ]\n"
     ]
    }
   ],
   "source": [
    "print(x)\n"
   ]
  },
  {
   "cell_type": "code",
   "execution_count": 35,
   "id": "9e2177f4",
   "metadata": {},
   "outputs": [],
   "source": [
    "sinx = np.sin(x)\n",
    "\n",
    "cosx = np.cos(x)"
   ]
  },
  {
   "cell_type": "code",
   "execution_count": 36,
   "id": "f681a04f",
   "metadata": {},
   "outputs": [
    {
     "data": {
      "text/plain": [
       "(array([ 0.        ,  0.86324673,  0.87150319,  0.01659189, -0.85475261,\n",
       "        -0.87951972, -0.03317922,  0.84602316,  0.88729411,  0.04975741,\n",
       "        -0.8370608 , -0.89482422, -0.0663219 ,  0.82786799,  0.90210797,\n",
       "         0.08286813, -0.81844725, -0.90914336, -0.09939155,  0.80880119,\n",
       "         0.91592846,  0.1158876 , -0.79893246, -0.9224614 , -0.13235175]),\n",
       " array([ 1.        ,  0.50478221, -0.49038983, -0.99986235, -0.51903563,\n",
       "         0.47586244,  0.99944942,  0.53314614, -0.46120404, -0.99876133,\n",
       "        -0.54710988,  0.44641866,  0.99779828,  0.56092299, -0.43151039,\n",
       "        -0.99656052, -0.57458167,  0.41648331,  0.9950484 ,  0.58808216,\n",
       "        -0.40134157, -0.99326233, -0.60142075,  0.38608933,  0.99120281]))"
      ]
     },
     "execution_count": 36,
     "metadata": {},
     "output_type": "execute_result"
    }
   ],
   "source": [
    "sinx,cosx\n"
   ]
  },
  {
   "cell_type": "code",
   "execution_count": 37,
   "id": "04dc0a17",
   "metadata": {},
   "outputs": [
    {
     "data": {
      "text/plain": [
       "<matplotlib.legend.Legend at 0x7fedec1aad90>"
      ]
     },
     "execution_count": 37,
     "metadata": {},
     "output_type": "execute_result"
    },
    {
     "data": {
      "image/png": "[encoded data removed]",
      "text/plain": [
       "<Figure size 432x288 with 1 Axes>"
      ]
     },
     "metadata": {
      "needs_background": "light"
     },
     "output_type": "display_data"
    }
   ],
   "source": [
    "pp.plot(x,sinx)\n",
    "pp.plot(x,cosx)\n",
    "pp.legend(['sinx','cosx'])"
   ]
  },
  {
   "cell_type": "code",
   "execution_count": 41,
   "id": "30f27fd4",
   "metadata": {},
   "outputs": [
    {
     "data": {
      "text/plain": [
       "0.0"
      ]
     },
     "execution_count": 41,
     "metadata": {},
     "output_type": "execute_result"
    }
   ],
   "source": [
    "x[0]"
   ]
  },
  {
   "cell_type": "code",
   "execution_count": null,
   "id": "20dc8dd0",
   "metadata": {},
   "outputs": [],
   "source": []
  },
  {
   "cell_type": "code",
   "execution_count": null,
   "id": "abf7ba43",
   "metadata": {},
   "outputs": [],
   "source": []
  },
  {
   "cell_type": "code",
   "execution_count": null,
   "id": "c260d064",
   "metadata": {},
   "outputs": [],
   "source": []
  }
 ],
 "metadata": {
  "kernelspec": {
   "display_name": "Python 3",
   "language": "python",
   "name": "python3"
  },
  "language_info": {
   "codemirror_mode": {
    "name": "ipython",
    "version": 3
   },
   "file_extension": ".py",
   "mimetype": "text/x-python",
   "name": "python",
   "nbconvert_exporter": "python",
   "pygments_lexer": "ipython3",
   "version": "3.8.8"
  }
 },
 "nbformat": 4,
 "nbformat_minor": 5
}
