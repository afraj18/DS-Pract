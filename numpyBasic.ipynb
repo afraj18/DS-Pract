{
 "cells": [
  {
   "cell_type": "code",
   "execution_count": 8,
   "id": "4769f51a",
   "metadata": {},
   "outputs": [],
   "source": [
    "import numpy as np"
   ]
  },
  {
   "cell_type": "code",
   "execution_count": 9,
   "id": "3f4cd497",
   "metadata": {},
   "outputs": [
    {
     "name": "stdout",
     "output_type": "stream",
     "text": [
      "[1 2 3 4 5]\n"
     ]
    }
   ],
   "source": [
    "arr = np.array([1,2,3,4,5])\n",
    "print(arr)"
   ]
  },
  {
   "cell_type": "code",
   "execution_count": 10,
   "id": "94b82fa4",
   "metadata": {},
   "outputs": [],
   "source": [
    "twoDarr = np.array([[1,2,3,4,5],[2.2,3,2,2,4],[1,2,4,6,5]],dtype=np.float16)"
   ]
  },
  {
   "cell_type": "code",
   "execution_count": 11,
   "id": "d3fced98",
   "metadata": {},
   "outputs": [
    {
     "name": "stdout",
     "output_type": "stream",
     "text": [
      "[1. 2. 3. 4. 5.]\n",
      "[2.2 3.  2.  2.  4. ]\n",
      "[1. 2. 4. 6. 5.]\n"
     ]
    }
   ],
   "source": [
    "for i in range(len(twoDarr)):\n",
    "    print(twoDarr[i])"
   ]
  },
  {
   "cell_type": "code",
   "execution_count": 12,
   "id": "618d20e1",
   "metadata": {},
   "outputs": [
    {
     "data": {
      "text/plain": [
       "dtype('float16')"
      ]
     },
     "execution_count": 12,
     "metadata": {},
     "output_type": "execute_result"
    }
   ],
   "source": [
    "twoDarr[0].dtype"
   ]
  },
  {
   "cell_type": "code",
   "execution_count": 13,
   "id": "14ffd2d6",
   "metadata": {},
   "outputs": [
    {
     "data": {
      "text/plain": [
       "5"
      ]
     },
     "execution_count": 13,
     "metadata": {},
     "output_type": "execute_result"
    }
   ],
   "source": [
    "arr.size"
   ]
  },
  {
   "cell_type": "code",
   "execution_count": 14,
   "id": "7f1afc01",
   "metadata": {},
   "outputs": [
    {
     "data": {
      "text/plain": [
       "(5,)"
      ]
     },
     "execution_count": 14,
     "metadata": {},
     "output_type": "execute_result"
    }
   ],
   "source": [
    "arr.ndim\n",
    "arr.size\n",
    "arr.shape"
   ]
  },
  {
   "cell_type": "code",
   "execution_count": 15,
   "id": "ca8f7cf9",
   "metadata": {},
   "outputs": [
    {
     "data": {
      "text/plain": [
       "1"
      ]
     },
     "execution_count": 15,
     "metadata": {},
     "output_type": "execute_result"
    }
   ],
   "source": [
    "arr.ndim"
   ]
  },
  {
   "cell_type": "code",
   "execution_count": 16,
   "id": "affa6609",
   "metadata": {},
   "outputs": [
    {
     "data": {
      "text/plain": [
       "(5,)"
      ]
     },
     "execution_count": 16,
     "metadata": {},
     "output_type": "execute_result"
    }
   ],
   "source": [
    "arr.shape"
   ]
  },
  {
   "cell_type": "code",
   "execution_count": 17,
   "id": "856e71c5",
   "metadata": {},
   "outputs": [
    {
     "data": {
      "text/plain": [
       "(3, 5)"
      ]
     },
     "execution_count": 17,
     "metadata": {},
     "output_type": "execute_result"
    }
   ],
   "source": [
    "twoDarr.shape"
   ]
  },
  {
   "cell_type": "code",
   "execution_count": 18,
   "id": "1ebe7f51",
   "metadata": {},
   "outputs": [
    {
     "data": {
      "text/plain": [
       "15"
      ]
     },
     "execution_count": 18,
     "metadata": {},
     "output_type": "execute_result"
    }
   ],
   "source": [
    "twoDarr.size"
   ]
  },
  {
   "cell_type": "code",
   "execution_count": 19,
   "id": "14d4ee78",
   "metadata": {},
   "outputs": [
    {
     "data": {
      "text/plain": [
       "array([[1. , 2. , 3. , 4. , 5. ],\n",
       "       [2.2, 3. , 2. , 2. , 4. ],\n",
       "       [1. , 2. , 4. , 6. , 5. ]], dtype=float16)"
      ]
     },
     "execution_count": 19,
     "metadata": {},
     "output_type": "execute_result"
    }
   ],
   "source": [
    "twoDarr\n"
   ]
  },
  {
   "cell_type": "code",
   "execution_count": 20,
   "id": "d4c7c304",
   "metadata": {},
   "outputs": [],
   "source": [
    "a = np.zeros((3,3),\"d\")"
   ]
  },
  {
   "cell_type": "code",
   "execution_count": 21,
   "id": "dac5bb10",
   "metadata": {},
   "outputs": [
    {
     "data": {
      "text/plain": [
       "array([[0., 0., 0.],\n",
       "       [0., 0., 0.],\n",
       "       [0., 0., 0.]])"
      ]
     },
     "execution_count": 21,
     "metadata": {},
     "output_type": "execute_result"
    }
   ],
   "source": [
    "a"
   ]
  },
  {
   "cell_type": "code",
   "execution_count": 22,
   "id": "a5d2a453",
   "metadata": {},
   "outputs": [
    {
     "data": {
      "text/plain": [
       "dtype('float64')"
      ]
     },
     "execution_count": 22,
     "metadata": {},
     "output_type": "execute_result"
    }
   ],
   "source": [
    "a.dtype\n"
   ]
  },
  {
   "cell_type": "code",
   "execution_count": 23,
   "id": "222a6505",
   "metadata": {},
   "outputs": [
    {
     "data": {
      "text/plain": [
       "array([[ 2.31584178e+077, -2.32035231e+077,  3.95252517e-323,\n",
       "         0.00000000e+000],\n",
       "       [ 0.00000000e+000,  0.00000000e+000,  0.00000000e+000,\n",
       "         0.00000000e+000],\n",
       "       [ 0.00000000e+000,  0.00000000e+000,  0.00000000e+000,\n",
       "         0.00000000e+000],\n",
       "       [ 0.00000000e+000,  0.00000000e+000,  2.31584178e+077,\n",
       "         1.11687066e-308]])"
      ]
     },
     "execution_count": 23,
     "metadata": {},
     "output_type": "execute_result"
    }
   ],
   "source": [
    "np.empty((4,4),'d')"
   ]
  },
  {
   "cell_type": "code",
   "execution_count": 24,
   "id": "ffe98f4e",
   "metadata": {},
   "outputs": [
    {
     "data": {
      "text/plain": [
       "array([ 0. ,  2.5,  5. ,  7.5, 10. ])"
      ]
     },
     "execution_count": 24,
     "metadata": {},
     "output_type": "execute_result"
    }
   ],
   "source": [
    "np.linspace(0,10,5)"
   ]
  },
  {
   "cell_type": "code",
   "execution_count": 25,
   "id": "6a35921a",
   "metadata": {},
   "outputs": [
    {
     "data": {
      "text/plain": [
       "array([-10,  -8,  -6,  -4,  -2,   0,   2,   4,   6,   8])"
      ]
     },
     "execution_count": 25,
     "metadata": {},
     "output_type": "execute_result"
    }
   ],
   "source": [
    "np.arange(-10,10,2)"
   ]
  },
  {
   "cell_type": "code",
   "execution_count": 26,
   "id": "ba0d389b",
   "metadata": {},
   "outputs": [
    {
     "data": {
      "text/plain": [
       "array([-0.57483496, -2.00821975,  0.03316472, -0.04377451,  1.33439563,\n",
       "       -0.8838951 ,  1.40098021, -2.16876885, -2.05127586,  0.27658543,\n",
       "        0.02137409, -0.29049867, -1.21426171, -0.86186614, -0.59111571,\n",
       "        1.60033324,  1.2454465 , -0.62592065, -1.24821446,  0.66025217])"
      ]
     },
     "execution_count": 26,
     "metadata": {},
     "output_type": "execute_result"
    }
   ],
   "source": [
    "np.random.standard_normal(20)"
   ]
  },
  {
   "cell_type": "code",
   "execution_count": 27,
   "id": "9e963d68",
   "metadata": {},
   "outputs": [],
   "source": [
    "a = np.random.standard_normal((2,4))"
   ]
  },
  {
   "cell_type": "code",
   "execution_count": 28,
   "id": "24158ef8",
   "metadata": {},
   "outputs": [],
   "source": [
    "b = np.random.standard_normal((2,4))"
   ]
  },
  {
   "cell_type": "code",
   "execution_count": 29,
   "id": "237e98eb",
   "metadata": {},
   "outputs": [
    {
     "data": {
      "text/plain": [
       "((2, 4), (2, 4))"
      ]
     },
     "execution_count": 29,
     "metadata": {},
     "output_type": "execute_result"
    }
   ],
   "source": [
    "a.shape,b.shape"
   ]
  },
  {
   "cell_type": "code",
   "execution_count": 30,
   "id": "51052414",
   "metadata": {},
   "outputs": [],
   "source": [
    "c = np.vstack([a,b])"
   ]
  },
  {
   "cell_type": "code",
   "execution_count": 31,
   "id": "6ba339e6",
   "metadata": {},
   "outputs": [
    {
     "data": {
      "text/plain": [
       "(4, 4)"
      ]
     },
     "execution_count": 31,
     "metadata": {},
     "output_type": "execute_result"
    }
   ],
   "source": [
    "c.shape"
   ]
  },
  {
   "cell_type": "code",
   "execution_count": 32,
   "id": "fc4f27af",
   "metadata": {},
   "outputs": [],
   "source": [
    "d= np.hstack([a,b])\n",
    "\n"
   ]
  },
  {
   "cell_type": "code",
   "execution_count": 33,
   "id": "8428e1a5",
   "metadata": {},
   "outputs": [
    {
     "data": {
      "text/plain": [
       "(2, 8)"
      ]
     },
     "execution_count": 33,
     "metadata": {},
     "output_type": "execute_result"
    }
   ],
   "source": [
    "d.shape"
   ]
  },
  {
   "cell_type": "code",
   "execution_count": 34,
   "id": "f2fa3a35",
   "metadata": {},
   "outputs": [],
   "source": [
    "import matplotlib.pyplot as pp"
   ]
  },
  {
   "cell_type": "code",
   "execution_count": 35,
   "id": "77842e29",
   "metadata": {},
   "outputs": [],
   "source": [
    "%matplotlib inline"
   ]
  },
  {
   "cell_type": "code",
   "execution_count": 59,
   "id": "31a87d36",
   "metadata": {},
   "outputs": [],
   "source": [
    "x = np.linspace(0,25,100)\n"
   ]
  },
  {
   "cell_type": "code",
   "execution_count": 60,
   "id": "2636cc33",
   "metadata": {},
   "outputs": [
    {
     "name": "stdout",
     "output_type": "stream",
     "text": [
      "[ 0.          0.25252525  0.50505051  0.75757576  1.01010101  1.26262626\n",
      "  1.51515152  1.76767677  2.02020202  2.27272727  2.52525253  2.77777778\n",
      "  3.03030303  3.28282828  3.53535354  3.78787879  4.04040404  4.29292929\n",
      "  4.54545455  4.7979798   5.05050505  5.3030303   5.55555556  5.80808081\n",
      "  6.06060606  6.31313131  6.56565657  6.81818182  7.07070707  7.32323232\n",
      "  7.57575758  7.82828283  8.08080808  8.33333333  8.58585859  8.83838384\n",
      "  9.09090909  9.34343434  9.5959596   9.84848485 10.1010101  10.35353535\n",
      " 10.60606061 10.85858586 11.11111111 11.36363636 11.61616162 11.86868687\n",
      " 12.12121212 12.37373737 12.62626263 12.87878788 13.13131313 13.38383838\n",
      " 13.63636364 13.88888889 14.14141414 14.39393939 14.64646465 14.8989899\n",
      " 15.15151515 15.4040404  15.65656566 15.90909091 16.16161616 16.41414141\n",
      " 16.66666667 16.91919192 17.17171717 17.42424242 17.67676768 17.92929293\n",
      " 18.18181818 18.43434343 18.68686869 18.93939394 19.19191919 19.44444444\n",
      " 19.6969697  19.94949495 20.2020202  20.45454545 20.70707071 20.95959596\n",
      " 21.21212121 21.46464646 21.71717172 21.96969697 22.22222222 22.47474747\n",
      " 22.72727273 22.97979798 23.23232323 23.48484848 23.73737374 23.98989899\n",
      " 24.24242424 24.49494949 24.74747475 25.        ]\n"
     ]
    }
   ],
   "source": [
    "print(x)\n"
   ]
  },
  {
   "cell_type": "code",
   "execution_count": 63,
   "id": "9e2177f4",
   "metadata": {},
   "outputs": [],
   "source": [
    "sinx = np.sin(x\n",
    "             )\n",
    "cosx = np.cos(x)"
   ]
  },
  {
   "cell_type": "code",
   "execution_count": 64,
   "id": "f681a04f",
   "metadata": {},
   "outputs": [
    {
     "data": {
      "text/plain": [
       "(array([ 0.        ,  0.24984992,  0.48385164,  0.68716224,  0.84688556,\n",
       "         0.95289021,  0.99845223,  0.98068157,  0.90070545,  0.76359681,\n",
       "         0.57805259,  0.35584199,  0.11106004, -0.14076655, -0.38366419,\n",
       "        -0.60222569, -0.7825875 , -0.91330913, -0.98609877, -0.99633934,\n",
       "        -0.94338126, -0.8305837 , -0.66510151, -0.45743137, -0.22074597,\n",
       "         0.02994153,  0.27872982,  0.50983804,  0.7086068 ,  0.86242803,\n",
       "         0.96154471,  0.9996698 ,  0.97438499,  0.88729411,  0.74392141,\n",
       "         0.55336114,  0.32770071,  0.08125394, -0.17034683, -0.41114236,\n",
       "        -0.62585878, -0.80087645, -0.92509384, -0.99063175, -0.99333304,\n",
       "        -0.93302638, -0.81353706, -0.64244439, -0.43060093, -0.19144409,\n",
       "         0.05985621,  0.30735979,  0.53536727,  0.72941595,  0.87719715,\n",
       "         0.969337  ,  0.99999098,  0.96721468,  0.87308714,  0.72357893,\n",
       "         0.5281735 ,  0.29926558,  0.05137498, -0.19977437, -0.43825186,\n",
       "        -0.64893067, -0.81844725, -0.93604903, -0.99427643, -0.98943603,\n",
       "        -0.92183486, -0.79576092, -0.61921119, -0.40338437, -0.16197054,\n",
       "         0.08971722,  0.33571414,  0.56041643,  0.74957103,  0.8911797 ,\n",
       "         0.97626009,  0.99941547,  0.95917708,  0.85809727,  0.70258763,\n",
       "         0.50251225,  0.2705621 ,  0.02144996, -0.22902277, -0.46496838,\n",
       "        -0.67142066, -0.83528416, -0.94616487, -0.99702954, -0.98465178,\n",
       "        -0.90981673, -0.77727122, -0.59542275, -0.3758061 , -0.13235175]),\n",
       " array([ 1.        ,  0.96828458,  0.87515004,  0.72650399,  0.53177518,\n",
       "         0.30331542,  0.0556161 , -0.19561099, -0.43443032, -0.64569335,\n",
       "        -0.81599952, -0.93454613, -0.9938137 , -0.99004282, -0.92347268,\n",
       "        -0.79832588, -0.6225406 , -0.40726704, -0.16616018,  0.08548635,\n",
       "         0.33171042,  0.55689381,  0.74675295,  0.88924493,  0.97533134,\n",
       "         0.99955165,  0.96036956,  0.86027041,  0.70560358,  0.50617971,\n",
       "         0.27464844,  0.02569598, -0.2248864 , -0.46120404, -0.66826712,\n",
       "        -0.83294144, -0.94478159, -0.99669343, -0.98538417, -0.91157115,\n",
       "        -0.7799364 , -0.59882962, -0.37973857, -0.13656038,  0.11527995,\n",
       "         0.35980797,  0.58151307,  0.76633231,  0.90254243,  0.98150352,\n",
       "         0.99820701,  0.95159338,  0.84461938,  0.68407045,  0.48013035,\n",
       "         0.24573518, -0.00424719, -0.25396015, -0.4875642 , -0.69024165,\n",
       "        -0.84913647, -0.95416986, -0.99867943, -0.97984193, -0.89885222,\n",
       "        -0.76084754, -0.57458167, -0.35186959, -0.10683812,  0.14497018,\n",
       "         0.38758289,  0.6056109 ,  0.78522449,  0.91503063,  0.98679559,\n",
       "         0.99596728,  0.94196391,  0.82821098,  0.66192392,  0.45365046,\n",
       "         0.21660157, -0.03418654, -0.28280617, -0.51348717, -0.71159724,\n",
       "        -0.86457009, -0.96270252, -0.99976992, -0.97342107, -0.88532729,\n",
       "        -0.74107644, -0.54981849, -0.32368509, -0.07702006,  0.17453041,\n",
       "         0.41501027,  0.62916567,  0.80341257,  0.92669832,  0.99120281]))"
      ]
     },
     "execution_count": 64,
     "metadata": {},
     "output_type": "execute_result"
    }
   ],
   "source": [
    "sinx,cosx\n"
   ]
  },
  {
   "cell_type": "code",
   "execution_count": 69,
   "id": "04dc0a17",
   "metadata": {},
   "outputs": [
    {
     "data": {
      "text/plain": [
       "<matplotlib.legend.Legend at 0x7fa4ae831670>"
      ]
     },
     "execution_count": 69,
     "metadata": {},
     "output_type": "execute_result"
    },
    {
     "data": {
      "image/png": "[encoded data removed]",
      "text/plain": [
       "<Figure size 432x288 with 1 Axes>"
      ]
     },
     "metadata": {
      "needs_background": "light"
     },
     "output_type": "display_data"
    }
   ],
   "source": [
    "pp.plot(x,sinx)\n",
    "pp.plot(x,cosx)\n",
    "pp.legend(['sinx','cosx'])"
   ]
  },
  {
   "cell_type": "code",
   "execution_count": 70,
   "id": "30f27fd4",
   "metadata": {},
   "outputs": [
    {
     "data": {
      "text/plain": [
       "0.0"
      ]
     },
     "execution_count": 70,
     "metadata": {},
     "output_type": "execute_result"
    }
   ],
   "source": [
    "x[0]"
   ]
  },
  {
   "cell_type": "code",
   "execution_count": null,
   "id": "20dc8dd0",
   "metadata": {},
   "outputs": [],
   "source": []
  },
  {
   "cell_type": "code",
   "execution_count": null,
   "id": "abf7ba43",
   "metadata": {},
   "outputs": [],
   "source": []
  },
  {
   "cell_type": "code",
   "execution_count": null,
   "id": "c260d064",
   "metadata": {},
   "outputs": [],
   "source": []
  }
 ],
 "metadata": {
  "kernelspec": {
   "display_name": "Python 3",
   "language": "python",
   "name": "python3"
  },
  "language_info": {
   "codemirror_mode": {
    "name": "ipython",
    "version": 3
   },
   "file_extension": ".py",
   "mimetype": "text/x-python",
   "name": "python",
   "nbconvert_exporter": "python",
   "pygments_lexer": "ipython3",
   "version": "3.8.8"
  }
 },
 "nbformat": 4,
 "nbformat_minor": 5
}
