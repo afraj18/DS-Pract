{
 "cells": [
  {
   "cell_type": "code",
   "execution_count": 27,
   "id": "ed8f66bc",
   "metadata": {},
   "outputs": [],
   "source": [
    "import numpy as np"
   ]
  },
  {
   "cell_type": "code",
   "execution_count": 28,
   "id": "488919d4",
   "metadata": {},
   "outputs": [],
   "source": [
    "import matplotlib.pyplot as pp"
   ]
  },
  {
   "cell_type": "code",
   "execution_count": 29,
   "id": "c3c57d6d",
   "metadata": {},
   "outputs": [],
   "source": [
    "x = np.linspace(1,10,20)"
   ]
  },
  {
   "cell_type": "code",
   "execution_count": 30,
   "id": "474cacd9",
   "metadata": {},
   "outputs": [
    {
     "data": {
      "text/plain": [
       "array([ 1.        ,  1.47368421,  1.94736842,  2.42105263,  2.89473684,\n",
       "        3.36842105,  3.84210526,  4.31578947,  4.78947368,  5.26315789,\n",
       "        5.73684211,  6.21052632,  6.68421053,  7.15789474,  7.63157895,\n",
       "        8.10526316,  8.57894737,  9.05263158,  9.52631579, 10.        ])"
      ]
     },
     "execution_count": 30,
     "metadata": {},
     "output_type": "execute_result"
    }
   ],
   "source": [
    "x\n"
   ]
  },
  {
   "cell_type": "code",
   "execution_count": 31,
   "id": "32354813",
   "metadata": {},
   "outputs": [],
   "source": [
    "sinx = np.sin(x)"
   ]
  },
  {
   "cell_type": "code",
   "execution_count": 32,
   "id": "7e6a4a68",
   "metadata": {},
   "outputs": [
    {
     "data": {
      "text/plain": [
       "array([ 0.84147098,  0.99528832,  0.92993066,  0.65979057,  0.2443563 ,\n",
       "       -0.2248883 , -0.64460967, -0.92237988, -0.99703045, -0.85212237,\n",
       "       -0.51956623, -0.07259508,  0.39036243,  0.76735722,  0.9753703 ,\n",
       "        0.96859457,  0.74852214,  0.36361573, -0.10136344, -0.54402111])"
      ]
     },
     "execution_count": 32,
     "metadata": {},
     "output_type": "execute_result"
    }
   ],
   "source": [
    "sinx"
   ]
  },
  {
   "cell_type": "code",
   "execution_count": 33,
   "id": "98b4505d",
   "metadata": {},
   "outputs": [],
   "source": [
    "cosx = np.cos(x)"
   ]
  },
  {
   "cell_type": "code",
   "execution_count": 34,
   "id": "e1ecde7a",
   "metadata": {},
   "outputs": [],
   "source": [
    "tanx = np.tan(x)"
   ]
  },
  {
   "cell_type": "code",
   "execution_count": 35,
   "id": "be5d4289",
   "metadata": {},
   "outputs": [
    {
     "data": {
      "text/plain": [
       "<matplotlib.legend.Legend at 0x7f9d5faaebb0>"
      ]
     },
     "execution_count": 35,
     "metadata": {},
     "output_type": "execute_result"
    },
    {
     "data": {
      "image/png": "[encoded data removed]",
      "text/plain": [
       "<Figure size 432x288 with 1 Axes>"
      ]
     },
     "metadata": {
      "needs_background": "light"
     },
     "output_type": "display_data"
    }
   ],
   "source": [
    "pp.plot(x,sinx)\n",
    "pp.plot(x,cosx)\n",
    "pp.plot(x,tanx)\n",
    "pp.legend(['SinX',\"CosX\",\"TanX\"])"
   ]
  },
  {
   "cell_type": "code",
   "execution_count": 61,
   "id": "0cb70659",
   "metadata": {},
   "outputs": [],
   "source": [
    "y = np.linspace(0,50,1000)"
   ]
  },
  {
   "cell_type": "code",
   "execution_count": 62,
   "id": "502a9943",
   "metadata": {},
   "outputs": [],
   "source": [
    "siny = np.sin(y)"
   ]
  },
  {
   "cell_type": "code",
   "execution_count": 63,
   "id": "c1e5f679",
   "metadata": {},
   "outputs": [
    {
     "data": {
      "text/plain": [
       "array([ 0.00000000e+00,  5.00291567e-02,  9.99330162e-02,  1.49586595e-01,\n",
       "        1.98865536e-01,  2.47646422e-01,  2.95807081e-01,  3.43226896e-01,\n",
       "        3.89787104e-01,  4.35371097e-01,  4.79864709e-01,  5.23156508e-01,\n",
       "        5.65138069e-01,  6.05704250e-01,  6.44753455e-01,  6.82187884e-01,\n",
       "        7.17913784e-01,  7.51841680e-01,  7.83886601e-01,  8.13968289e-01,\n",
       "        8.42011406e-01,  8.67945719e-01,  8.91706275e-01,  9.13233566e-01,\n",
       "        9.32473678e-01,  9.49378424e-01,  9.63905466e-01,  9.76018422e-01,\n",
       "        9.85686954e-01,  9.92886849e-01,  9.97600074e-01,  9.99814825e-01,\n",
       "        9.99525555e-01,  9.96732989e-01,  9.91444120e-01,  9.83672194e-01,\n",
       "        9.73436677e-01,  9.60763203e-01,  9.45683512e-01,  9.28235371e-01,\n",
       "        9.08462478e-01,  8.86414356e-01,  8.62146222e-01,  8.35718857e-01,\n",
       "        8.07198446e-01,  7.76656419e-01,  7.44169268e-01,  7.09818357e-01,\n",
       "        6.73689717e-01,  6.35873831e-01,  5.96465408e-01,  5.55563148e-01,\n",
       "        5.13269488e-01,  4.69690352e-01,  4.24934884e-01,  3.79115173e-01,\n",
       "        3.32345974e-01,  2.84744420e-01,  2.36429728e-01,  1.87522901e-01,\n",
       "        1.38146426e-01,  8.84239650e-02,  3.84800478e-02, -1.15602421e-02,\n",
       "       -6.15715795e-02, -1.11428712e-01, -1.61006773e-01, -2.10181595e-01,\n",
       "       -2.58830020e-01, -3.06830209e-01, -3.54061947e-01, -4.00406943e-01,\n",
       "       -4.45749125e-01, -4.89974935e-01, -5.32973611e-01, -5.74637462e-01,\n",
       "       -6.14862143e-01, -6.53546911e-01, -6.90594881e-01, -7.25913267e-01,\n",
       "       -7.59413613e-01, -7.91012021e-01, -8.20629350e-01, -8.48191427e-01,\n",
       "       -8.73629220e-01, -8.96879023e-01, -9.17882606e-01, -9.36587366e-01,\n",
       "       -9.52946458e-01, -9.66918910e-01, -9.78469728e-01, -9.87569984e-01,\n",
       "       -9.94196886e-01, -9.98333837e-01, -9.99970476e-01, -9.99102705e-01,\n",
       "       -9.95732696e-01, -9.89868890e-01, -9.81525973e-01, -9.70724839e-01,\n",
       "       -9.57492539e-01, -9.41862215e-01, -9.23873010e-01, -9.03569980e-01,\n",
       "       -8.81003973e-01, -8.56231505e-01, -8.29314618e-01, -8.00320726e-01,\n",
       "       -7.69322443e-01, -7.36397403e-01, -7.01628067e-01, -6.65101515e-01,\n",
       "       -6.26909226e-01, -5.87146853e-01, -5.45913979e-01, -5.03313872e-01,\n",
       "       -4.59453224e-01, -4.14441882e-01, -3.68392576e-01, -3.21420637e-01,\n",
       "       -2.73643705e-01, -2.25181436e-01, -1.76155204e-01, -1.26687794e-01,\n",
       "       -7.69030966e-02, -2.69257963e-02,  2.31189392e-02,  7.31057737e-02,\n",
       "        1.22909516e-01,  1.72405433e-01,  2.21469563e-01,  2.69979027e-01,\n",
       "        3.17812332e-01,  3.64849681e-01,  4.10973269e-01,  4.56067581e-01,\n",
       "        5.00019679e-01,  5.42719486e-01,  5.84060060e-01,  6.23937864e-01,\n",
       "        6.62253026e-01,  6.98909585e-01,  7.33815735e-01,  7.66884056e-01,\n",
       "        7.98031727e-01,  8.27180740e-01,  8.54258091e-01,  8.79195967e-01,\n",
       "        9.01931909e-01,  9.22408977e-01,  9.40575886e-01,  9.56387137e-01,\n",
       "        9.69803131e-01,  9.80790267e-01,  9.89321030e-01,  9.95374054e-01,\n",
       "        9.98934178e-01,  9.99992487e-01,  9.98546331e-01,  9.94599330e-01,\n",
       "        9.88161371e-01,  9.79248577e-01,  9.67883269e-01,  9.54093913e-01,\n",
       "        9.37915044e-01,  9.19387180e-01,  8.98556726e-01,  8.75475850e-01,\n",
       "        8.50202358e-01,  8.22799547e-01,  7.93336048e-01,  7.61885651e-01,\n",
       "        7.28527123e-01,  6.93344009e-01,  6.56424427e-01,  6.17860839e-01,\n",
       "        5.77749829e-01,  5.36191853e-01,  4.93290992e-01,  4.49154692e-01,\n",
       "        4.03893491e-01,  3.57620745e-01,  3.10452344e-01,  2.62506419e-01,\n",
       "        2.13903051e-01,  1.64763966e-01,  1.15212232e-01,  6.53719506e-02,\n",
       "        1.53679464e-02, -3.46745466e-02, -8.46301977e-02, -1.34373894e-01,\n",
       "       -1.83781052e-01, -2.32727934e-01, -2.81091953e-01, -3.28751981e-01,\n",
       "       -3.75588654e-01, -4.21484672e-01, -4.66325087e-01, -5.09997599e-01,\n",
       "       -5.52392830e-01, -5.93404601e-01, -6.32930199e-01, -6.70870634e-01,\n",
       "       -7.07130883e-01, -7.41620134e-01, -7.74252009e-01, -8.04944781e-01,\n",
       "       -8.33621582e-01, -8.60210590e-01, -8.84645214e-01, -9.06864258e-01,\n",
       "       -9.26812074e-01, -9.44438703e-01, -9.59700000e-01, -9.72557743e-01,\n",
       "       -9.82979731e-01, -9.90939861e-01, -9.96418197e-01, -9.99401019e-01,\n",
       "       -9.99880856e-01, -9.97856507e-01, -9.93333042e-01, -9.86321790e-01,\n",
       "       -9.76840310e-01, -9.64912348e-01, -9.50567779e-01, -9.33842526e-01,\n",
       "       -9.14778480e-01, -8.93423385e-01, -8.69830725e-01, -8.44059587e-01,\n",
       "       -8.16174515e-01, -7.86245346e-01, -7.54347038e-01, -7.20559479e-01,\n",
       "       -6.84967290e-01, -6.47659612e-01, -6.08729879e-01, -5.68275592e-01,\n",
       "       -5.26398068e-01, -4.83202187e-01, -4.38796135e-01, -3.93291124e-01,\n",
       "       -3.46801121e-01, -2.99442560e-01, -2.51334050e-01, -2.02596078e-01,\n",
       "       -1.53350707e-01, -1.03721272e-01, -5.38320680e-02, -3.80804259e-03,\n",
       "        4.62255200e-02,  9.61433114e-02,  1.45820313e-01,  1.95132111e-01,\n",
       "        2.43955203e-01,  2.92167312e-01,  3.39647694e-01,  3.86277433e-01,\n",
       "        4.31939746e-01,  4.76520272e-01,  5.19907361e-01,  5.61992350e-01,\n",
       "        6.02669837e-01,  6.41837948e-01,  6.79398585e-01,  7.15257678e-01,\n",
       "        7.49325420e-01,  7.81516488e-01,  8.11750260e-01,  8.39951016e-01,\n",
       "        8.66048127e-01,  8.89976234e-01,  9.11675409e-01,  9.31091308e-01,\n",
       "        9.48175302e-01,  9.62884606e-01,  9.75182380e-01,  9.85037825e-01,\n",
       "        9.92426258e-01,  9.97329174e-01,  9.99734295e-01,  9.99635597e-01,\n",
       "        9.97033327e-01,  9.91934002e-01,  9.84350394e-01,  9.74301495e-01,\n",
       "        9.61812473e-01,  9.46914607e-01,  9.29645207e-01,  9.10047525e-01,\n",
       "        8.88170644e-01,  8.64069352e-01,  8.37804012e-01,  8.09440405e-01,\n",
       "        7.79049567e-01,  7.46707611e-01,  7.12495538e-01,  6.76499030e-01,\n",
       "        6.38808241e-01,  5.99517566e-01,  5.58725409e-01,  5.16533933e-01,\n",
       "        4.73048805e-01,  4.28378934e-01,  3.82636195e-01,  3.35935149e-01,\n",
       "        2.88392758e-01,  2.40128093e-01,  1.91262030e-01,  1.41916955e-01,\n",
       "        9.22164501e-02,  4.22849911e-02, -7.75237011e-03, -5.77703156e-02,\n",
       "       -1.07643576e-01, -1.57247245e-01, -2.06457091e-01, -2.55149868e-01,\n",
       "       -3.03203626e-01, -3.50498015e-01, -3.96914588e-01, -4.42337093e-01,\n",
       "       -4.86651773e-01, -5.29747640e-01, -5.71516763e-01, -6.11854531e-01,\n",
       "       -6.50659918e-01, -6.87835738e-01, -7.23288884e-01, -7.56930564e-01,\n",
       "       -7.88676523e-01, -8.18447253e-01, -8.46168195e-01, -8.71769922e-01,\n",
       "       -8.95188314e-01, -9.16364722e-01, -9.35246107e-01, -9.51785183e-01,\n",
       "       -9.65940528e-01, -9.77676690e-01, -9.86964275e-01, -9.93780024e-01,\n",
       "       -9.98106866e-01, -9.99933964e-01, -9.99256743e-01, -9.96076899e-01,\n",
       "       -9.90402396e-01, -9.82247445e-01, -9.71632471e-01, -9.58584057e-01,\n",
       "       -9.43134885e-01, -9.25323646e-01, -9.05194949e-01, -8.82799204e-01,\n",
       "       -8.58192502e-01, -8.31436471e-01, -8.02598119e-01, -7.71749673e-01,\n",
       "       -7.38968392e-01, -7.04336376e-01, -6.67940360e-01, -6.29871497e-01,\n",
       "       -5.90225132e-01, -5.49100556e-01, -5.06600767e-01, -4.62832203e-01,\n",
       "       -4.17904484e-01, -3.71930129e-01, -3.25024281e-01, -2.77304415e-01,\n",
       "       -2.28890044e-01, -1.79902421e-01, -1.30464236e-01, -8.06993044e-02,\n",
       "       -3.07322630e-02,  1.93117468e-02,  6.93073906e-02,  1.19129455e-01,\n",
       "        1.68653162e-01,  2.17754479e-01,  2.66310434e-01,  3.14199418e-01,\n",
       "        3.61301495e-01,  4.07498697e-01,  4.52675326e-01,  4.96718236e-01,\n",
       "        5.39517122e-01,  5.80964797e-01,  6.20957454e-01,  6.59394933e-01,\n",
       "        6.96180967e-01,  7.31223426e-01,  7.64434548e-01,  7.95731155e-01,\n",
       "        8.25034866e-01,  8.52272290e-01,  8.77375211e-01,  9.00280759e-01,\n",
       "        9.20931567e-01,  9.39275917e-01,  9.55267865e-01,  9.68867359e-01,\n",
       "        9.80040339e-01,  9.88758824e-01,  9.95000977e-01,  9.98751166e-01,\n",
       "        9.99999998e-01,  9.98744345e-01,  9.94987352e-01,  9.88738429e-01,\n",
       "        9.80013225e-01,  9.68833594e-01,  9.55227533e-01,  9.39229120e-01,\n",
       "        9.20878422e-01,  9.00221398e-01,  8.77309784e-01,  8.52200960e-01,\n",
       "        8.24957813e-01,  7.95648571e-01,  7.64346640e-01,  7.31130414e-01,\n",
       "        6.96083083e-01,  6.59292423e-01,  6.20850576e-01,  5.80853817e-01,\n",
       "        5.39402319e-01,  4.96599896e-01,  4.52553747e-01,  4.07374183e-01,\n",
       "        3.61174357e-01,  3.14069976e-01,  2.66179011e-01,  2.17621405e-01,\n",
       "        1.68518769e-01,  1.18994081e-01,  6.91713736e-02,  1.91754278e-02,\n",
       "       -3.08685425e-02, -8.08352031e-02, -1.30599413e-01, -1.80036539e-01,\n",
       "       -2.29022766e-01, -2.77435409e-01, -3.25153219e-01, -3.72056689e-01,\n",
       "       -4.18028347e-01, -4.62953061e-01, -5.06718315e-01, -5.49214501e-01,\n",
       "       -5.90335188e-01, -6.29977390e-01, -6.68041823e-01, -7.04433155e-01,\n",
       "       -7.39060246e-01, -7.71836371e-01, -8.02679444e-01, -8.31512219e-01,\n",
       "       -8.58262484e-01, -8.82863244e-01, -9.05252886e-01, -9.25375337e-01,\n",
       "       -9.43180199e-01, -9.58622881e-01, -9.71664706e-01, -9.82273013e-01,\n",
       "       -9.90421231e-01, -9.96088955e-01, -9.99261990e-01, -9.99932388e-01,\n",
       "       -9.98098471e-01, -9.93764831e-01, -9.86942323e-01, -9.77648033e-01,\n",
       "       -9.65905238e-01, -9.51743349e-01, -9.35197833e-01, -9.16310128e-01,\n",
       "       -8.95127539e-01, -8.71703117e-01, -8.46095527e-01, -8.18368905e-01,\n",
       "       -7.88592690e-01, -7.56841456e-01, -7.23194725e-01, -6.87736764e-01,\n",
       "       -6.50556377e-01, -6.11746681e-01, -5.71404875e-01, -5.29631994e-01,\n",
       "       -4.86532659e-01, -4.42214809e-01, -3.96789440e-01, -3.50370317e-01,\n",
       "       -3.03073697e-01, -2.55018034e-01, -2.06323682e-01, -1.57112596e-01,\n",
       "       -1.07508023e-01, -5.76341986e-02, -7.61602996e-03,  4.24212129e-02,\n",
       "        9.23522125e-02,  1.42051917e-01,  1.91395855e-01,  2.40260445e-01,\n",
       "        2.88523307e-01,  3.36063566e-01,  3.82762159e-01,  4.28502131e-01,\n",
       "        4.73168925e-01,  5.16650675e-01,  5.58838481e-01,  5.99626685e-01,\n",
       "        6.38913133e-01,  6.76599433e-01,  7.12591201e-01,  7.46798294e-01,\n",
       "        7.79135042e-01,  8.09520459e-01,  8.37878445e-01,  8.64137976e-01,\n",
       "        8.88233287e-01,  9.10104032e-01,  9.29695435e-01,  9.46958430e-01,\n",
       "        9.61849783e-01,  9.74332197e-01,  9.84374411e-01,  9.91951275e-01,\n",
       "        9.97043812e-01,  9.99639268e-01,  9.99731143e-01,  9.97319207e-01,\n",
       "        9.92409500e-01,  9.85014319e-01,  9.75152184e-01,  9.62847796e-01,\n",
       "        9.48131970e-01,  9.31041562e-01,  9.11619376e-01,  8.89914052e-01,\n",
       "        8.65979952e-01,  8.39877019e-01,  8.11670627e-01,  7.81431418e-01,\n",
       "        7.49235126e-01,  7.15162386e-01,  6.79298533e-01,  6.41733388e-01,\n",
       "        6.02561030e-01,  5.61879569e-01,  5.19790888e-01,  4.76400399e-01,\n",
       "        4.31816772e-01,  3.86151668e-01,  3.39519452e-01,  2.92036915e-01,\n",
       "        2.43822976e-01,  1.94998386e-01,  1.45685425e-01,  9.60075980e-02,\n",
       "        4.60893211e-02, -3.94438574e-03, -5.39682139e-02, -1.03856880e-01,\n",
       "       -1.53485437e-01, -2.02729593e-01, -2.51466016e-01, -2.99572645e-01,\n",
       "       -3.46929000e-01, -3.93416477e-01, -4.38918647e-01, -4.83321553e-01,\n",
       "       -5.26513988e-01, -5.68387776e-01, -6.08838046e-01, -6.47763490e-01,\n",
       "       -6.85066621e-01, -7.20654013e-01, -7.54436537e-01, -7.86329588e-01,\n",
       "       -8.16253287e-01, -8.44132693e-01, -8.69897982e-01, -8.93484625e-01,\n",
       "       -9.14833549e-01, -9.33891286e-01, -9.50610107e-01, -9.64948140e-01,\n",
       "       -9.76869474e-01, -9.86344255e-01, -9.93348751e-01, -9.97865421e-01,\n",
       "       -9.99882951e-01, -9.99396291e-01, -9.96406658e-01, -9.90921539e-01,\n",
       "       -9.82954673e-01, -9.72526012e-01, -9.59661675e-01, -9.44393880e-01,\n",
       "       -9.26760864e-01, -9.06806791e-01, -8.84581633e-01, -8.60141055e-01,\n",
       "       -8.33546266e-01, -8.04863874e-01, -7.74165712e-01, -7.41528665e-01,\n",
       "       -7.07034470e-01, -6.70769518e-01, -6.32824635e-01, -5.93294851e-01,\n",
       "       -5.52279170e-01, -5.09880314e-01, -4.66204471e-01, -4.21361026e-01,\n",
       "       -3.75462289e-01, -3.28623212e-01, -2.80961103e-01, -2.32595332e-01,\n",
       "       -1.83647029e-01, -1.34238785e-01, -8.44943419e-02, -3.45382841e-02,\n",
       "        1.55042743e-02,  6.55080025e-02,  1.15347667e-01,  1.64898445e-01,\n",
       "        2.14036237e-01,  2.62637979e-01,  3.10581948e-01,  3.57748069e-01,\n",
       "        4.04018216e-01,  4.49276506e-01,  4.93409589e-01,  5.36306935e-01,\n",
       "        5.77861109e-01,  6.17968039e-01,  6.56527278e-01,  6.93442253e-01,\n",
       "        7.28620514e-01,  7.61973955e-01,  7.93419045e-01,  8.22877029e-01,\n",
       "        8.50274129e-01,  8.75541732e-01,  8.98616553e-01,  9.19440803e-01,\n",
       "        9.37962328e-01,  9.54134741e-01,  9.67917537e-01,  9.79276199e-01,\n",
       "        9.88182279e-01,  9.94613472e-01,  9.98553671e-01,  9.99993007e-01,\n",
       "        9.98927876e-01,  9.95360945e-01,  9.89301149e-01,  9.80763662e-01,\n",
       "        9.69769869e-01,  9.56347301e-01,  9.40529577e-01,  9.22356310e-01,\n",
       "        9.01873017e-01,  8.79130996e-01,  8.54187205e-01,  8.27104115e-01,\n",
       "        7.97949556e-01,  7.66796545e-01,  7.33723103e-01,  6.98812063e-01,\n",
       "        6.62150859e-01,  6.23831309e-01,  5.83949382e-01,  5.42604963e-01,\n",
       "        4.99901599e-01,  4.55946238e-01,  4.10848968e-01,  3.64722732e-01,\n",
       "        3.17683054e-01,  2.69847743e-01,  2.21336603e-01,  1.72271129e-01,\n",
       "        1.22774204e-01,  7.29697936e-02,  2.29826312e-02, -2.70620908e-02,\n",
       "       -7.70390363e-02, -1.26823039e-01, -1.76289415e-01, -2.25314277e-01,\n",
       "       -2.73774842e-01, -3.21549743e-01, -3.68519328e-01, -4.14565961e-01,\n",
       "       -4.59574321e-01, -5.03431683e-01, -5.46028209e-01, -5.87257215e-01,\n",
       "       -6.27015445e-01, -6.65203324e-01, -7.01725212e-01, -7.36489640e-01,\n",
       "       -7.69409540e-01, -8.00402467e-01, -8.29390797e-01, -8.56301931e-01,\n",
       "       -8.81068471e-01, -9.03628387e-01, -9.23925181e-01, -9.41908017e-01,\n",
       "       -9.57531860e-01, -9.70757579e-01, -9.81552050e-01, -9.89888240e-01,\n",
       "       -9.95745269e-01, -9.99108470e-01, -9.99969419e-01, -9.98325960e-01,\n",
       "       -9.94182209e-01, -9.87548544e-01, -9.78441579e-01, -9.66884121e-01,\n",
       "       -9.52905118e-01, -9.36539578e-01, -9.17828489e-01, -8.96818713e-01,\n",
       "       -8.73562868e-01, -8.48119199e-01, -8.20551427e-01, -7.90928598e-01,\n",
       "       -7.59324900e-01, -7.25819484e-01, -6.90496265e-01, -6.53443708e-01,\n",
       "       -6.14754612e-01, -5.74525872e-01, -5.32858241e-01, -4.89856075e-01,\n",
       "       -4.45627071e-01, -4.00282002e-01, -3.53934432e-01, -3.06700439e-01,\n",
       "       -2.58698320e-01, -2.10048294e-01, -1.60872206e-01, -1.11293216e-01,\n",
       "       -6.14354935e-02, -1.14239069e-02,  3.86162907e-02,  8.85597743e-02,\n",
       "        1.38281461e-01,  1.87656825e-01,  2.36562204e-01,  2.84875117e-01,\n",
       "        3.32474565e-01,  3.79241336e-01,  4.25058302e-01,  4.69810716e-01,\n",
       "        5.13386497e-01,  5.55676509e-01,  5.96574838e-01,  6.35979054e-01,\n",
       "        6.73790471e-01,  7.09914389e-01,  7.44260338e-01,  7.76742298e-01,\n",
       "        8.07278920e-01,  8.35793723e-01,  8.62215294e-01,  8.86477460e-01,\n",
       "        9.08519457e-01,  9.28286081e-01,  9.45727827e-01,  9.60801012e-01,\n",
       "        9.73467885e-01,  9.83696723e-01,  9.91461908e-01,  9.96743992e-01,\n",
       "        9.99529745e-01,  9.99812192e-01,  9.97590624e-01,  9.92870607e-01,\n",
       "        9.85663960e-01,  9.75988732e-01,  9.63869156e-01,  9.49335585e-01,\n",
       "        9.32424417e-01,  9.13178006e-01,  8.91644555e-01,  8.67877994e-01,\n",
       "        8.41937846e-01,  8.13889078e-01,  7.83801937e-01,  7.51751776e-01,\n",
       "        7.17818864e-01,  6.82088186e-01,  6.44649228e-01,  6.05595757e-01,\n",
       "        5.65025580e-01,  5.23040305e-01,  4.79745084e-01,  4.35248349e-01,\n",
       "        3.89661541e-01,  3.43098831e-01,  2.95676836e-01,  2.47514323e-01,\n",
       "        1.98731914e-01,  1.49451783e-01,  9.97973536e-02,  4.98929828e-02,\n",
       "       -1.36344173e-04, -5.01653297e-02, -1.00068677e-01, -1.49721404e-01,\n",
       "       -1.98999155e-01, -2.47778517e-01, -2.95937321e-01, -3.43354954e-01,\n",
       "       -3.89912661e-01, -4.35493837e-01, -4.79984325e-01, -5.23272700e-01,\n",
       "       -5.65250547e-01, -6.05812732e-01, -6.44857669e-01, -6.82287569e-01,\n",
       "       -7.18008691e-01, -7.51931571e-01, -7.83971250e-01, -8.14047485e-01,\n",
       "       -8.42084951e-01, -8.68013427e-01, -8.91767978e-01, -9.13289109e-01,\n",
       "       -9.32522922e-01, -9.49421245e-01, -9.63941758e-01, -9.76048093e-01,\n",
       "       -9.85709931e-01, -9.92903073e-01, -9.97609505e-01, -9.99817439e-01,\n",
       "       -9.99521346e-01, -9.96721967e-01, -9.91426313e-01, -9.83647648e-01,\n",
       "       -9.73405451e-01, -9.60725376e-01, -9.45639179e-01, -9.28184643e-01,\n",
       "       -9.08405483e-01, -8.86351235e-01, -8.62077134e-01, -8.35643974e-01,\n",
       "       -8.07117957e-01, -7.76570525e-01, -7.44078185e-01, -7.09722312e-01,\n",
       "       -6.73588950e-01, -6.35768595e-01, -5.96355968e-01, -5.55449776e-01,\n",
       "       -5.13152468e-01, -4.69569979e-01, -4.24811458e-01, -3.78989004e-01,\n",
       "       -3.32217377e-01, -2.84613717e-01, -2.36297247e-01, -1.87388974e-01,\n",
       "       -1.38011388e-01, -8.82881541e-02, -3.83438043e-02,  1.16965770e-02,\n",
       "        6.17076644e-02,  1.11564206e-01,  1.61141337e-01,  2.10314891e-01,\n",
       "        2.58961716e-01,  3.06959974e-01,  3.54189456e-01,  4.00531876e-01,\n",
       "        4.45871170e-01,  4.90093787e-01,  5.33088971e-01,  5.74749042e-01,\n",
       "        6.14969663e-01,  6.53650102e-01,  6.90693484e-01,  7.26007035e-01,\n",
       "        7.59502313e-01,  7.91095429e-01,  8.20707258e-01,  8.48263639e-01,\n",
       "        8.73695556e-01,  8.96939316e-01,  9.17936706e-01,  9.36635137e-01,\n",
       "        9.52987780e-01,  9.66953680e-01,  9.78497859e-01,  9.87591405e-01,\n",
       "        9.94211544e-01,  9.98341695e-01,  9.99971515e-01,  9.99096921e-01,\n",
       "        9.95720104e-01,  9.89849522e-01,  9.81499877e-01,  9.70692081e-01,\n",
       "        9.57453201e-01,  9.41816394e-01,  9.23820823e-01,  9.03511556e-01,\n",
       "        8.80939459e-01,  8.56161063e-01,  8.29238424e-01,  8.00238970e-01,\n",
       "        7.69235330e-01,  7.36305153e-01,  7.01530910e-01,  6.64999693e-01,\n",
       "        6.26802996e-01,  5.87036479e-01,  5.45799739e-01,  5.03196052e-01,\n",
       "        4.59332118e-01,  4.14317794e-01,  3.68265817e-01,  3.21291525e-01,\n",
       "        2.73512562e-01,  2.25048592e-01,  1.76020991e-01,  1.26552547e-01,\n",
       "        7.67671555e-02,  2.67895013e-02, -2.32552467e-02, -7.32417523e-02,\n",
       "       -1.23044825e-01, -1.72539734e-01, -2.21602520e-01, -2.70110306e-01,\n",
       "       -3.17941604e-01, -3.64976623e-01, -4.11097563e-01, -4.56188916e-01,\n",
       "       -5.00137751e-01, -5.42833998e-01, -5.84170726e-01, -6.24044408e-01,\n",
       "       -6.62355179e-01, -6.99007093e-01, -7.33908354e-01, -7.66971552e-01,\n",
       "       -7.98113883e-01, -8.27257349e-01, -8.54328962e-01, -8.79260921e-01,\n",
       "       -9.01990785e-01, -9.22461626e-01, -9.40622177e-01, -9.56426954e-01,\n",
       "       -9.69836374e-01, -9.80816854e-01, -9.89340894e-01, -9.95387144e-01,\n",
       "       -9.98940462e-01, -9.99991950e-01, -9.98538973e-01, -9.94585170e-01,\n",
       "       -9.88140444e-01, -9.79220936e-01, -9.67848983e-01, -9.54053068e-01,\n",
       "       -9.37867742e-01, -9.19333540e-01, -8.98496882e-01, -8.75409952e-01,\n",
       "       -8.50130571e-01, -8.22722051e-01, -7.93253037e-01, -7.61797332e-01,\n",
       "       -7.28433718e-01, -6.93245752e-01, -6.56321564e-01, -6.17753628e-01,\n",
       "       -5.77638537e-01, -5.36076760e-01, -4.93172387e-01, -4.49032871e-01,\n",
       "       -4.03768759e-01, -3.57493415e-01, -3.10322733e-01, -2.62374854e-01])"
      ]
     },
     "execution_count": 63,
     "metadata": {},
     "output_type": "execute_result"
    }
   ],
   "source": [
    "siny"
   ]
  },
  {
   "cell_type": "code",
   "execution_count": 67,
   "id": "f355747c",
   "metadata": {},
   "outputs": [
    {
     "ename": "ValueError",
     "evalue": "x and y must have same first dimension, but have shapes (20,) and (1000,)",
     "output_type": "error",
     "traceback": [
      "\u001b[0;31m---------------------------------------------------------------------------\u001b[0m",
      "\u001b[0;31mValueError\u001b[0m                                Traceback (most recent call last)",
      "\u001b[0;32m<ipython-input-67-6d8f0cd41151>\u001b[0m in \u001b[0;36m<module>\u001b[0;34m\u001b[0m\n\u001b[0;32m----> 1\u001b[0;31m \u001b[0mpp\u001b[0m\u001b[0;34m.\u001b[0m\u001b[0mplot\u001b[0m\u001b[0;34m(\u001b[0m\u001b[0mx\u001b[0m\u001b[0;34m,\u001b[0m\u001b[0my\u001b[0m\u001b[0;34m)\u001b[0m\u001b[0;34m\u001b[0m\u001b[0;34m\u001b[0m\u001b[0m\n\u001b[0m",
      "\u001b[0;32m/Applications/anaconda3/lib/python3.8/site-packages/matplotlib/pyplot.py\u001b[0m in \u001b[0;36mplot\u001b[0;34m(scalex, scaley, data, *args, **kwargs)\u001b[0m\n\u001b[1;32m   2838\u001b[0m \u001b[0;34m@\u001b[0m\u001b[0m_copy_docstring_and_deprecators\u001b[0m\u001b[0;34m(\u001b[0m\u001b[0mAxes\u001b[0m\u001b[0;34m.\u001b[0m\u001b[0mplot\u001b[0m\u001b[0;34m)\u001b[0m\u001b[0;34m\u001b[0m\u001b[0;34m\u001b[0m\u001b[0m\n\u001b[1;32m   2839\u001b[0m \u001b[0;32mdef\u001b[0m \u001b[0mplot\u001b[0m\u001b[0;34m(\u001b[0m\u001b[0;34m*\u001b[0m\u001b[0margs\u001b[0m\u001b[0;34m,\u001b[0m \u001b[0mscalex\u001b[0m\u001b[0;34m=\u001b[0m\u001b[0;32mTrue\u001b[0m\u001b[0;34m,\u001b[0m \u001b[0mscaley\u001b[0m\u001b[0;34m=\u001b[0m\u001b[0;32mTrue\u001b[0m\u001b[0;34m,\u001b[0m \u001b[0mdata\u001b[0m\u001b[0;34m=\u001b[0m\u001b[0;32mNone\u001b[0m\u001b[0;34m,\u001b[0m \u001b[0;34m**\u001b[0m\u001b[0mkwargs\u001b[0m\u001b[0;34m)\u001b[0m\u001b[0;34m:\u001b[0m\u001b[0;34m\u001b[0m\u001b[0;34m\u001b[0m\u001b[0m\n\u001b[0;32m-> 2840\u001b[0;31m     return gca().plot(\n\u001b[0m\u001b[1;32m   2841\u001b[0m         \u001b[0;34m*\u001b[0m\u001b[0margs\u001b[0m\u001b[0;34m,\u001b[0m \u001b[0mscalex\u001b[0m\u001b[0;34m=\u001b[0m\u001b[0mscalex\u001b[0m\u001b[0;34m,\u001b[0m \u001b[0mscaley\u001b[0m\u001b[0;34m=\u001b[0m\u001b[0mscaley\u001b[0m\u001b[0;34m,\u001b[0m\u001b[0;34m\u001b[0m\u001b[0;34m\u001b[0m\u001b[0m\n\u001b[1;32m   2842\u001b[0m         **({\"data\": data} if data is not None else {}), **kwargs)\n",
      "\u001b[0;32m/Applications/anaconda3/lib/python3.8/site-packages/matplotlib/axes/_axes.py\u001b[0m in \u001b[0;36mplot\u001b[0;34m(self, scalex, scaley, data, *args, **kwargs)\u001b[0m\n\u001b[1;32m   1741\u001b[0m         \"\"\"\n\u001b[1;32m   1742\u001b[0m         \u001b[0mkwargs\u001b[0m \u001b[0;34m=\u001b[0m \u001b[0mcbook\u001b[0m\u001b[0;34m.\u001b[0m\u001b[0mnormalize_kwargs\u001b[0m\u001b[0;34m(\u001b[0m\u001b[0mkwargs\u001b[0m\u001b[0;34m,\u001b[0m \u001b[0mmlines\u001b[0m\u001b[0;34m.\u001b[0m\u001b[0mLine2D\u001b[0m\u001b[0;34m)\u001b[0m\u001b[0;34m\u001b[0m\u001b[0;34m\u001b[0m\u001b[0m\n\u001b[0;32m-> 1743\u001b[0;31m         \u001b[0mlines\u001b[0m \u001b[0;34m=\u001b[0m \u001b[0;34m[\u001b[0m\u001b[0;34m*\u001b[0m\u001b[0mself\u001b[0m\u001b[0;34m.\u001b[0m\u001b[0m_get_lines\u001b[0m\u001b[0;34m(\u001b[0m\u001b[0;34m*\u001b[0m\u001b[0margs\u001b[0m\u001b[0;34m,\u001b[0m \u001b[0mdata\u001b[0m\u001b[0;34m=\u001b[0m\u001b[0mdata\u001b[0m\u001b[0;34m,\u001b[0m \u001b[0;34m**\u001b[0m\u001b[0mkwargs\u001b[0m\u001b[0;34m)\u001b[0m\u001b[0;34m]\u001b[0m\u001b[0;34m\u001b[0m\u001b[0;34m\u001b[0m\u001b[0m\n\u001b[0m\u001b[1;32m   1744\u001b[0m         \u001b[0;32mfor\u001b[0m \u001b[0mline\u001b[0m \u001b[0;32min\u001b[0m \u001b[0mlines\u001b[0m\u001b[0;34m:\u001b[0m\u001b[0;34m\u001b[0m\u001b[0;34m\u001b[0m\u001b[0m\n\u001b[1;32m   1745\u001b[0m             \u001b[0mself\u001b[0m\u001b[0;34m.\u001b[0m\u001b[0madd_line\u001b[0m\u001b[0;34m(\u001b[0m\u001b[0mline\u001b[0m\u001b[0;34m)\u001b[0m\u001b[0;34m\u001b[0m\u001b[0;34m\u001b[0m\u001b[0m\n",
      "\u001b[0;32m/Applications/anaconda3/lib/python3.8/site-packages/matplotlib/axes/_base.py\u001b[0m in \u001b[0;36m__call__\u001b[0;34m(self, data, *args, **kwargs)\u001b[0m\n\u001b[1;32m    271\u001b[0m                 \u001b[0mthis\u001b[0m \u001b[0;34m+=\u001b[0m \u001b[0margs\u001b[0m\u001b[0;34m[\u001b[0m\u001b[0;36m0\u001b[0m\u001b[0;34m]\u001b[0m\u001b[0;34m,\u001b[0m\u001b[0;34m\u001b[0m\u001b[0;34m\u001b[0m\u001b[0m\n\u001b[1;32m    272\u001b[0m                 \u001b[0margs\u001b[0m \u001b[0;34m=\u001b[0m \u001b[0margs\u001b[0m\u001b[0;34m[\u001b[0m\u001b[0;36m1\u001b[0m\u001b[0;34m:\u001b[0m\u001b[0;34m]\u001b[0m\u001b[0;34m\u001b[0m\u001b[0;34m\u001b[0m\u001b[0m\n\u001b[0;32m--> 273\u001b[0;31m             \u001b[0;32myield\u001b[0m \u001b[0;32mfrom\u001b[0m \u001b[0mself\u001b[0m\u001b[0;34m.\u001b[0m\u001b[0m_plot_args\u001b[0m\u001b[0;34m(\u001b[0m\u001b[0mthis\u001b[0m\u001b[0;34m,\u001b[0m \u001b[0mkwargs\u001b[0m\u001b[0;34m)\u001b[0m\u001b[0;34m\u001b[0m\u001b[0;34m\u001b[0m\u001b[0m\n\u001b[0m\u001b[1;32m    274\u001b[0m \u001b[0;34m\u001b[0m\u001b[0m\n\u001b[1;32m    275\u001b[0m     \u001b[0;32mdef\u001b[0m \u001b[0mget_next_color\u001b[0m\u001b[0;34m(\u001b[0m\u001b[0mself\u001b[0m\u001b[0;34m)\u001b[0m\u001b[0;34m:\u001b[0m\u001b[0;34m\u001b[0m\u001b[0;34m\u001b[0m\u001b[0m\n",
      "\u001b[0;32m/Applications/anaconda3/lib/python3.8/site-packages/matplotlib/axes/_base.py\u001b[0m in \u001b[0;36m_plot_args\u001b[0;34m(self, tup, kwargs)\u001b[0m\n\u001b[1;32m    397\u001b[0m \u001b[0;34m\u001b[0m\u001b[0m\n\u001b[1;32m    398\u001b[0m         \u001b[0;32mif\u001b[0m \u001b[0mx\u001b[0m\u001b[0;34m.\u001b[0m\u001b[0mshape\u001b[0m\u001b[0;34m[\u001b[0m\u001b[0;36m0\u001b[0m\u001b[0;34m]\u001b[0m \u001b[0;34m!=\u001b[0m \u001b[0my\u001b[0m\u001b[0;34m.\u001b[0m\u001b[0mshape\u001b[0m\u001b[0;34m[\u001b[0m\u001b[0;36m0\u001b[0m\u001b[0;34m]\u001b[0m\u001b[0;34m:\u001b[0m\u001b[0;34m\u001b[0m\u001b[0;34m\u001b[0m\u001b[0m\n\u001b[0;32m--> 399\u001b[0;31m             raise ValueError(f\"x and y must have same first dimension, but \"\n\u001b[0m\u001b[1;32m    400\u001b[0m                              f\"have shapes {x.shape} and {y.shape}\")\n\u001b[1;32m    401\u001b[0m         \u001b[0;32mif\u001b[0m \u001b[0mx\u001b[0m\u001b[0;34m.\u001b[0m\u001b[0mndim\u001b[0m \u001b[0;34m>\u001b[0m \u001b[0;36m2\u001b[0m \u001b[0;32mor\u001b[0m \u001b[0my\u001b[0m\u001b[0;34m.\u001b[0m\u001b[0mndim\u001b[0m \u001b[0;34m>\u001b[0m \u001b[0;36m2\u001b[0m\u001b[0;34m:\u001b[0m\u001b[0;34m\u001b[0m\u001b[0;34m\u001b[0m\u001b[0m\n",
      "\u001b[0;31mValueError\u001b[0m: x and y must have same first dimension, but have shapes (20,) and (1000,)"
     ]
    },
    {
     "data": {
      "image/png": "[encoded data removed]",
      "text/plain": [
       "<Figure size 432x288 with 1 Axes>"
      ]
     },
     "metadata": {
      "needs_background": "light"
     },
     "output_type": "display_data"
    }
   ],
   "source": [
    "pp.plot(x,y)"
   ]
  },
  {
   "cell_type": "code",
   "execution_count": 72,
   "id": "90e0de2a",
   "metadata": {},
   "outputs": [],
   "source": [
    "x = [0,2,3,4,5,6,7,8]\n"
   ]
  },
  {
   "cell_type": "code",
   "execution_count": 75,
   "id": "22b7f77a",
   "metadata": {},
   "outputs": [],
   "source": [
    "y = [0,3,5,7,9,11,13,14]"
   ]
  },
  {
   "cell_type": "code",
   "execution_count": 76,
   "id": "b16edd55",
   "metadata": {},
   "outputs": [
    {
     "data": {
      "text/plain": [
       "[<matplotlib.lines.Line2D at 0x7f9d609c4c10>]"
      ]
     },
     "execution_count": 76,
     "metadata": {},
     "output_type": "execute_result"
    },
    {
     "data": {
      "image/png": "[encoded data removed]",
      "text/plain": [
       "<Figure size 432x288 with 1 Axes>"
      ]
     },
     "metadata": {
      "needs_background": "light"
     },
     "output_type": "display_data"
    }
   ],
   "source": [
    "pp.plot(x,y)"
   ]
  },
  {
   "cell_type": "code",
   "execution_count": null,
   "id": "4a9e0838",
   "metadata": {},
   "outputs": [],
   "source": []
  },
  {
   "cell_type": "code",
   "execution_count": null,
   "id": "7895bac7",
   "metadata": {},
   "outputs": [],
   "source": []
  },
  {
   "cell_type": "code",
   "execution_count": null,
   "id": "14deeca5",
   "metadata": {},
   "outputs": [],
   "source": []
  },
  {
   "cell_type": "code",
   "execution_count": null,
   "id": "7ca77fee",
   "metadata": {},
   "outputs": [],
   "source": []
  },
  {
   "cell_type": "code",
   "execution_count": null,
   "id": "779426c7",
   "metadata": {},
   "outputs": [],
   "source": []
  },
  {
   "cell_type": "code",
   "execution_count": null,
   "id": "7af5e4a4",
   "metadata": {},
   "outputs": [],
   "source": []
  },
  {
   "cell_type": "code",
   "execution_count": null,
   "id": "4f00fd60",
   "metadata": {},
   "outputs": [],
   "source": []
  },
  {
   "cell_type": "code",
   "execution_count": null,
   "id": "620947ac",
   "metadata": {},
   "outputs": [],
   "source": []
  },
  {
   "cell_type": "code",
   "execution_count": null,
   "id": "8dbffff4",
   "metadata": {},
   "outputs": [],
   "source": []
  },
  {
   "cell_type": "code",
   "execution_count": null,
   "id": "f0065af9",
   "metadata": {},
   "outputs": [],
   "source": []
  },
  {
   "cell_type": "code",
   "execution_count": null,
   "id": "bb31b697",
   "metadata": {},
   "outputs": [],
   "source": []
  },
  {
   "cell_type": "code",
   "execution_count": null,
   "id": "bd9b3801",
   "metadata": {},
   "outputs": [],
   "source": []
  },
  {
   "cell_type": "code",
   "execution_count": null,
   "id": "0f97abc1",
   "metadata": {},
   "outputs": [],
   "source": []
  },
  {
   "cell_type": "code",
   "execution_count": null,
   "id": "dcbc085e",
   "metadata": {},
   "outputs": [],
   "source": []
  },
  {
   "cell_type": "code",
   "execution_count": null,
   "id": "2ce09bc8",
   "metadata": {},
   "outputs": [],
   "source": []
  },
  {
   "cell_type": "code",
   "execution_count": null,
   "id": "2c67c568",
   "metadata": {},
   "outputs": [],
   "source": []
  },
  {
   "cell_type": "code",
   "execution_count": null,
   "id": "c7da2267",
   "metadata": {},
   "outputs": [],
   "source": []
  },
  {
   "cell_type": "code",
   "execution_count": null,
   "id": "a511c801",
   "metadata": {},
   "outputs": [],
   "source": []
  },
  {
   "cell_type": "code",
   "execution_count": null,
   "id": "b18a3c22",
   "metadata": {},
   "outputs": [],
   "source": []
  },
  {
   "cell_type": "code",
   "execution_count": null,
   "id": "290765b1",
   "metadata": {},
   "outputs": [],
   "source": []
  },
  {
   "cell_type": "code",
   "execution_count": null,
   "id": "dc5c7db8",
   "metadata": {},
   "outputs": [],
   "source": []
  },
  {
   "cell_type": "code",
   "execution_count": null,
   "id": "33aa481a",
   "metadata": {},
   "outputs": [],
   "source": []
  }
 ],
 "metadata": {
  "kernelspec": {
   "display_name": "Python 3",
   "language": "python",
   "name": "python3"
  },
  "language_info": {
   "codemirror_mode": {
    "name": "ipython",
    "version": 3
   },
   "file_extension": ".py",
   "mimetype": "text/x-python",
   "name": "python",
   "nbconvert_exporter": "python",
   "pygments_lexer": "ipython3",
   "version": "3.8.8"
  }
 },
 "nbformat": 4,
 "nbformat_minor": 5
}
