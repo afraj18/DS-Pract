{
 "cells": [
  {
   "cell_type": "code",
   "execution_count": 5,
   "id": "ed8f66bc",
   "metadata": {},
   "outputs": [],
   "source": [
    "import numpy as np"
   ]
  },
  {
   "cell_type": "code",
   "execution_count": 6,
   "id": "488919d4",
   "metadata": {},
   "outputs": [],
   "source": [
    "import matplotlib.pyplot as pp"
   ]
  },
  {
   "cell_type": "code",
   "execution_count": 7,
   "id": "c3c57d6d",
   "metadata": {},
   "outputs": [],
   "source": [
    "x = np.linspace(1,10,20)"
   ]
  },
  {
   "cell_type": "code",
   "execution_count": 8,
   "id": "474cacd9",
   "metadata": {},
   "outputs": [
    {
     "data": {
      "text/plain": [
       "array([ 1.        ,  1.47368421,  1.94736842,  2.42105263,  2.89473684,\n",
       "        3.36842105,  3.84210526,  4.31578947,  4.78947368,  5.26315789,\n",
       "        5.73684211,  6.21052632,  6.68421053,  7.15789474,  7.63157895,\n",
       "        8.10526316,  8.57894737,  9.05263158,  9.52631579, 10.        ])"
      ]
     },
     "execution_count": 8,
     "metadata": {},
     "output_type": "execute_result"
    }
   ],
   "source": [
    "x\n"
   ]
  },
  {
   "cell_type": "code",
   "execution_count": 9,
   "id": "32354813",
   "metadata": {},
   "outputs": [],
   "source": [
    "sinx = np.sin(x)"
   ]
  },
  {
   "cell_type": "code",
   "execution_count": 10,
   "id": "7e6a4a68",
   "metadata": {},
   "outputs": [
    {
     "data": {
      "text/plain": [
       "array([ 0.84147098,  0.99528832,  0.92993066,  0.65979057,  0.2443563 ,\n",
       "       -0.2248883 , -0.64460967, -0.92237988, -0.99703045, -0.85212237,\n",
       "       -0.51956623, -0.07259508,  0.39036243,  0.76735722,  0.9753703 ,\n",
       "        0.96859457,  0.74852214,  0.36361573, -0.10136344, -0.54402111])"
      ]
     },
     "execution_count": 10,
     "metadata": {},
     "output_type": "execute_result"
    }
   ],
   "source": [
    "sinx"
   ]
  },
  {
   "cell_type": "code",
   "execution_count": 11,
   "id": "98b4505d",
   "metadata": {},
   "outputs": [],
   "source": [
    "cosx = np.cos(x)"
   ]
  },
  {
   "cell_type": "code",
   "execution_count": 12,
   "id": "e1ecde7a",
   "metadata": {},
   "outputs": [],
   "source": [
    "tanx = np.tan(x)"
   ]
  },
  {
   "cell_type": "code",
   "execution_count": 13,
   "id": "be5d4289",
   "metadata": {},
   "outputs": [
    {
     "data": {
      "text/plain": [
       "<matplotlib.legend.Legend at 0x7fd5f81acee0>"
      ]
     },
     "execution_count": 13,
     "metadata": {},
     "output_type": "execute_result"
    },
    {
     "data": {
      "image/png": "[encoded data removed]",
      "text/plain": [
       "<Figure size 432x288 with 1 Axes>"
      ]
     },
     "metadata": {
      "needs_background": "light"
     },
     "output_type": "display_data"
    }
   ],
   "source": [
    "pp.plot(x,sinx)\n",
    "pp.plot(x,cosx)\n",
    "pp.plot(x,tanx)\n",
    "pp.legend(['SinX',\"CosX\",\"TanX\"])"
   ]
  },
  {
   "cell_type": "code",
   "execution_count": 14,
   "id": "0cb70659",
   "metadata": {},
   "outputs": [],
   "source": [
    "y = np.linspace(0,50,10)"
   ]
  },
  {
   "cell_type": "code",
   "execution_count": 15,
   "id": "502a9943",
   "metadata": {},
   "outputs": [],
   "source": [
    "siny = np.sin(y)"
   ]
  },
  {
   "cell_type": "code",
   "execution_count": 18,
   "id": "c1e5f679",
   "metadata": {},
   "outputs": [
    {
     "data": {
      "text/plain": [
       "array([ 0.        , -0.66510151, -0.99333304, -0.81844725, -0.22902277,\n",
       "        0.4764004 ,  0.94052958,  0.92828608,  0.44587117, -0.26237485])"
      ]
     },
     "execution_count": 18,
     "metadata": {},
     "output_type": "execute_result"
    }
   ],
   "source": [
    "siny"
   ]
  },
  {
   "cell_type": "code",
   "execution_count": null,
   "id": "f355747c",
   "metadata": {},
   "outputs": [],
   "source": []
  },
  {
   "cell_type": "code",
   "execution_count": 20,
   "id": "90e0de2a",
   "metadata": {},
   "outputs": [],
   "source": [
    "x = [0,2,3,4,5,6,7,8]\n"
   ]
  },
  {
   "cell_type": "code",
   "execution_count": 21,
   "id": "22b7f77a",
   "metadata": {},
   "outputs": [],
   "source": [
    "y = [0,3,5,7,9,11,13,14]"
   ]
  },
  {
   "cell_type": "code",
   "execution_count": 22,
   "id": "b16edd55",
   "metadata": {},
   "outputs": [
    {
     "data": {
      "text/plain": [
       "[<matplotlib.lines.Line2D at 0x7fd5f86e0e20>]"
      ]
     },
     "execution_count": 22,
     "metadata": {},
     "output_type": "execute_result"
    },
    {
     "data": {
      "image/png": "[encoded data removed]",
      "text/plain": [
       "<Figure size 432x288 with 1 Axes>"
      ]
     },
     "metadata": {
      "needs_background": "light"
     },
     "output_type": "display_data"
    }
   ],
   "source": [
    "pp.plot(x,y)"
   ]
  },
  {
   "cell_type": "code",
   "execution_count": null,
   "id": "4a9e0838",
   "metadata": {},
   "outputs": [],
   "source": []
  },
  {
   "cell_type": "code",
   "execution_count": null,
   "id": "7895bac7",
   "metadata": {},
   "outputs": [],
   "source": []
  },
  {
   "cell_type": "code",
   "execution_count": null,
   "id": "14deeca5",
   "metadata": {},
   "outputs": [],
   "source": []
  },
  {
   "cell_type": "code",
   "execution_count": null,
   "id": "7ca77fee",
   "metadata": {},
   "outputs": [],
   "source": []
  },
  {
   "cell_type": "code",
   "execution_count": null,
   "id": "779426c7",
   "metadata": {},
   "outputs": [],
   "source": []
  },
  {
   "cell_type": "code",
   "execution_count": null,
   "id": "7af5e4a4",
   "metadata": {},
   "outputs": [],
   "source": []
  },
  {
   "cell_type": "code",
   "execution_count": null,
   "id": "4f00fd60",
   "metadata": {},
   "outputs": [],
   "source": []
  },
  {
   "cell_type": "code",
   "execution_count": null,
   "id": "620947ac",
   "metadata": {},
   "outputs": [],
   "source": []
  },
  {
   "cell_type": "code",
   "execution_count": null,
   "id": "8dbffff4",
   "metadata": {},
   "outputs": [],
   "source": []
  },
  {
   "cell_type": "code",
   "execution_count": null,
   "id": "f0065af9",
   "metadata": {},
   "outputs": [],
   "source": []
  },
  {
   "cell_type": "code",
   "execution_count": null,
   "id": "bb31b697",
   "metadata": {},
   "outputs": [],
   "source": []
  },
  {
   "cell_type": "code",
   "execution_count": null,
   "id": "bd9b3801",
   "metadata": {},
   "outputs": [],
   "source": []
  },
  {
   "cell_type": "code",
   "execution_count": null,
   "id": "0f97abc1",
   "metadata": {},
   "outputs": [],
   "source": []
  },
  {
   "cell_type": "code",
   "execution_count": null,
   "id": "dcbc085e",
   "metadata": {},
   "outputs": [],
   "source": []
  },
  {
   "cell_type": "code",
   "execution_count": null,
   "id": "2ce09bc8",
   "metadata": {},
   "outputs": [],
   "source": []
  },
  {
   "cell_type": "code",
   "execution_count": null,
   "id": "2c67c568",
   "metadata": {},
   "outputs": [],
   "source": []
  },
  {
   "cell_type": "code",
   "execution_count": null,
   "id": "c7da2267",
   "metadata": {},
   "outputs": [],
   "source": []
  },
  {
   "cell_type": "code",
   "execution_count": null,
   "id": "a511c801",
   "metadata": {},
   "outputs": [],
   "source": []
  },
  {
   "cell_type": "code",
   "execution_count": null,
   "id": "b18a3c22",
   "metadata": {},
   "outputs": [],
   "source": []
  },
  {
   "cell_type": "code",
   "execution_count": null,
   "id": "290765b1",
   "metadata": {},
   "outputs": [],
   "source": []
  },
  {
   "cell_type": "code",
   "execution_count": null,
   "id": "dc5c7db8",
   "metadata": {},
   "outputs": [],
   "source": []
  },
  {
   "cell_type": "code",
   "execution_count": null,
   "id": "33aa481a",
   "metadata": {},
   "outputs": [],
   "source": []
  }
 ],
 "metadata": {
  "kernelspec": {
   "display_name": "Python 3",
   "language": "python",
   "name": "python3"
  }
 },
 "nbformat": 4,
 "nbformat_minor": 5
}
